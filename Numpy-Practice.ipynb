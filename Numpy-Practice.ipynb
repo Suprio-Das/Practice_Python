{
  "cells": [
    {
      "cell_type": "markdown",
      "metadata": {
        "id": "Co4q9qvBLYDg"
      },
      "source": [
        "# NumPy Essentials Practice Exercises Overview:\n",
        "Time to test the knowledge on NumPy. Lets start with simple task and move on to more challenging ones!<br>\n",
        "**Good Luck**<br>\n",
        "\n",
        "&#9758; *Please note, there are several ways to get the required output, so your code could be different then what is provided in this notebook. <br>As long as you are getting the tasks done, it is fine at this stage. *"
      ]
    },
    {
      "cell_type": "markdown",
      "metadata": {
        "id": "9SCSzKgRLYDk"
      },
      "source": [
        "**1. What is the major difference between \"`Vector`\" and \"`Matrix`\"?**"
      ]
    },
    {
      "cell_type": "markdown",
      "source": [
        "The major difference between Vector and Matrix is that Vector is an One-dimensional Array and Matrix is a Two-Dimensional Array."
      ],
      "metadata": {
        "id": "oR-H1sAGMTBF"
      }
    },
    {
      "cell_type": "markdown",
      "metadata": {
        "id": "zee3_C4PLYDn"
      },
      "source": [
        "**2. How to import `NumPy` library?**"
      ]
    },
    {
      "cell_type": "code",
      "execution_count": 115,
      "metadata": {
        "collapsed": true,
        "id": "tj0GAH9sLYDn"
      },
      "outputs": [],
      "source": [
        "import numpy as np"
      ]
    },
    {
      "cell_type": "code",
      "source": [
        "np.__version__"
      ],
      "metadata": {
        "colab": {
          "base_uri": "https://localhost:8080/",
          "height": 35
        },
        "id": "5LKssVjUOWS4",
        "outputId": "ee549a9f-ddc3-4b8d-cdb7-0ac8608ba76f"
      },
      "execution_count": 119,
      "outputs": [
        {
          "output_type": "execute_result",
          "data": {
            "text/plain": [
              "'1.26.4'"
            ],
            "application/vnd.google.colaboratory.intrinsic+json": {
              "type": "string"
            }
          },
          "metadata": {},
          "execution_count": 119
        }
      ]
    },
    {
      "cell_type": "markdown",
      "metadata": {
        "id": "W1b5w3PpLYDo"
      },
      "source": [
        "**3. Convert the given Python list into NumPy array and check its data type**"
      ]
    },
    {
      "cell_type": "code",
      "execution_count": 16,
      "metadata": {
        "collapsed": true,
        "id": "3iWDshkvLYDp"
      },
      "outputs": [],
      "source": [
        "list_1 = [1,2,3,4,5]"
      ]
    },
    {
      "cell_type": "code",
      "execution_count": 17,
      "metadata": {
        "id": "WMDYrrFMLYDp"
      },
      "outputs": [],
      "source": [
        "numpy_list = np.array(list_1)"
      ]
    },
    {
      "cell_type": "code",
      "execution_count": 120,
      "metadata": {
        "colab": {
          "base_uri": "https://localhost:8080/"
        },
        "id": "mTlKDbCDLYDq",
        "outputId": "62fd099a-8e2a-4f2a-8bf1-a217eed8f381"
      },
      "outputs": [
        {
          "output_type": "execute_result",
          "data": {
            "text/plain": [
              "numpy.ndarray"
            ]
          },
          "metadata": {},
          "execution_count": 120
        }
      ],
      "source": [
        "type(numpy_list)"
      ]
    },
    {
      "cell_type": "markdown",
      "metadata": {
        "id": "YiQMBLDfLYDv"
      },
      "source": [
        "**4. Generate `array [0,1,2,3,4,5]` using NumPy built-in function, `arange()`**"
      ]
    },
    {
      "cell_type": "code",
      "execution_count": 123,
      "metadata": {
        "collapsed": true,
        "id": "95QX65oqLYDw"
      },
      "outputs": [],
      "source": [
        "array = np.arange(6)\n"
      ]
    },
    {
      "cell_type": "code",
      "execution_count": 124,
      "metadata": {
        "colab": {
          "base_uri": "https://localhost:8080/"
        },
        "id": "RtU0AcfFLYDx",
        "outputId": "f1a5daa7-b491-42d5-a23a-ddd87eb9e956"
      },
      "outputs": [
        {
          "output_type": "execute_result",
          "data": {
            "text/plain": [
              "array([0, 1, 2, 3, 4, 5])"
            ]
          },
          "metadata": {},
          "execution_count": 124
        }
      ],
      "source": [
        "array"
      ]
    },
    {
      "cell_type": "markdown",
      "metadata": {
        "id": "1vfBwfd3LYDy"
      },
      "source": [
        "**5. Generate an `array of \"5\" zeros` **"
      ]
    },
    {
      "cell_type": "code",
      "execution_count": 127,
      "metadata": {
        "collapsed": true,
        "id": "0X6o80yBLYDz"
      },
      "outputs": [],
      "source": [
        "zeros_array = np.zeros(5)"
      ]
    },
    {
      "cell_type": "code",
      "execution_count": 128,
      "metadata": {
        "colab": {
          "base_uri": "https://localhost:8080/"
        },
        "id": "8AZPxmyfLYD0",
        "outputId": "86914706-35d1-4e7e-86d7-665fb1983526"
      },
      "outputs": [
        {
          "output_type": "execute_result",
          "data": {
            "text/plain": [
              "array([0., 0., 0., 0., 0.])"
            ]
          },
          "metadata": {},
          "execution_count": 128
        }
      ],
      "source": [
        "zeros_array"
      ]
    },
    {
      "cell_type": "markdown",
      "metadata": {
        "id": "OuTZE4uzLYD1"
      },
      "source": [
        "**6. Generate the following `matrix`.**"
      ]
    },
    {
      "cell_type": "code",
      "execution_count": 130,
      "metadata": {
        "collapsed": true,
        "id": "q1bBlfArLYD1"
      },
      "outputs": [],
      "source": [
        "matrix = np.zeros((3,4))"
      ]
    },
    {
      "cell_type": "code",
      "execution_count": 32,
      "metadata": {
        "colab": {
          "base_uri": "https://localhost:8080/"
        },
        "id": "M7dMx8hrLYD2",
        "outputId": "e9025425-6fc6-40f5-ea36-131b54f9fc3b"
      },
      "outputs": [
        {
          "output_type": "execute_result",
          "data": {
            "text/plain": [
              "array([[0., 0., 0., 0.],\n",
              "       [0., 0., 0., 0.],\n",
              "       [0., 0., 0., 0.]])"
            ]
          },
          "metadata": {},
          "execution_count": 32
        }
      ],
      "source": [
        "matrix"
      ]
    },
    {
      "cell_type": "markdown",
      "metadata": {
        "id": "sJd1ZeZzLYD2"
      },
      "source": [
        "**7. Generate** `[1.,1.,1.,1.,1.]` **using NumPy built-in function?**"
      ]
    },
    {
      "cell_type": "code",
      "execution_count": 35,
      "metadata": {
        "collapsed": true,
        "id": "4FX7aFwgLYD3"
      },
      "outputs": [],
      "source": [
        "ones_array = np.ones(5)"
      ]
    },
    {
      "cell_type": "code",
      "execution_count": 37,
      "metadata": {
        "colab": {
          "base_uri": "https://localhost:8080/"
        },
        "id": "DHN430YOLYD3",
        "outputId": "a0cce3da-3e13-4e16-9a6d-d1f98bb4301b"
      },
      "outputs": [
        {
          "output_type": "stream",
          "name": "stdout",
          "text": [
            "[1. 1. 1. 1. 1.]\n"
          ]
        }
      ],
      "source": [
        "print(ones_array)"
      ]
    },
    {
      "cell_type": "markdown",
      "metadata": {
        "id": "shcUjrpTLYD4"
      },
      "source": [
        "**8. Generate an array of \"5\" tens.**"
      ]
    },
    {
      "cell_type": "code",
      "execution_count": 39,
      "metadata": {
        "collapsed": true,
        "id": "NdaPW0tnLYD4"
      },
      "outputs": [],
      "source": [
        "tens_array = np.ones(5) * 10"
      ]
    },
    {
      "cell_type": "code",
      "execution_count": 40,
      "metadata": {
        "colab": {
          "base_uri": "https://localhost:8080/"
        },
        "id": "5fnTMTmeLYD4",
        "outputId": "13ba227d-4cbd-4044-d08f-25394a5f6e0d"
      },
      "outputs": [
        {
          "output_type": "execute_result",
          "data": {
            "text/plain": [
              "array([10., 10., 10., 10., 10.])"
            ]
          },
          "metadata": {},
          "execution_count": 40
        }
      ],
      "source": [
        "tens_array"
      ]
    },
    {
      "cell_type": "markdown",
      "metadata": {
        "id": "1ZXJxrMDLYD5"
      },
      "source": [
        "**9. Use `arange()` to generate an array of even numbers between 50 and 100.**<br>\n",
        "*50 and 100 are not included*"
      ]
    },
    {
      "cell_type": "code",
      "execution_count": 45,
      "metadata": {
        "collapsed": true,
        "id": "VVu6irgQLYD5"
      },
      "outputs": [],
      "source": [
        "even = np.arange(start=52, stop=100, step=2)"
      ]
    },
    {
      "cell_type": "code",
      "execution_count": 46,
      "metadata": {
        "colab": {
          "base_uri": "https://localhost:8080/"
        },
        "id": "lpQ6fA2DLYD6",
        "outputId": "f5d25fcb-48b3-48b3-e1e3-3dad8cb74b04"
      },
      "outputs": [
        {
          "output_type": "execute_result",
          "data": {
            "text/plain": [
              "array([52, 54, 56, 58, 60, 62, 64, 66, 68, 70, 72, 74, 76, 78, 80, 82, 84,\n",
              "       86, 88, 90, 92, 94, 96, 98])"
            ]
          },
          "metadata": {},
          "execution_count": 46
        }
      ],
      "source": [
        "even"
      ]
    },
    {
      "cell_type": "markdown",
      "metadata": {
        "id": "zgpsgpjKLYD6"
      },
      "source": [
        "**10. Generate an array of 10 linearly spaced points between 0 and 1.**<br>\n",
        "**Output step size as well?**"
      ]
    },
    {
      "cell_type": "code",
      "execution_count": 51,
      "metadata": {
        "collapsed": true,
        "id": "cRakKyC9LYD7"
      },
      "outputs": [],
      "source": [
        "array = np.linspace(0, 1, 10)\n",
        "\n",
        "step_size = array[1] - array[0]"
      ]
    },
    {
      "cell_type": "code",
      "execution_count": 50,
      "metadata": {
        "colab": {
          "base_uri": "https://localhost:8080/"
        },
        "id": "ZPGCczKnLYD7",
        "outputId": "4b5154c0-d1c8-4d5b-9f24-0f96bbf10b2d"
      },
      "outputs": [
        {
          "output_type": "stream",
          "name": "stdout",
          "text": [
            "[0.         0.11111111 0.22222222 0.33333333 0.44444444 0.55555556\n",
            " 0.66666667 0.77777778 0.88888889 1.        ]\n",
            "0.1111111111111111\n"
          ]
        }
      ],
      "source": [
        "print(array)\n",
        "print(step_size)"
      ]
    },
    {
      "cell_type": "markdown",
      "metadata": {
        "id": "ujoTzuoJLYD8"
      },
      "source": [
        "**11. Perform the following tasks:**\n",
        "* Generate a **`vector array of 25`** numbers using **`arange()`**\n",
        "* write a code to convert the vector array into **`2-D matrix using reshape`**\n",
        "* can we use **`shape`** instead of reshape as well?"
      ]
    },
    {
      "cell_type": "code",
      "execution_count": 58,
      "metadata": {
        "collapsed": true,
        "id": "e1inQfwqLYD8"
      },
      "outputs": [],
      "source": [
        "vect_array = np.arange(25)"
      ]
    },
    {
      "cell_type": "code",
      "execution_count": 62,
      "metadata": {
        "scrolled": true,
        "colab": {
          "base_uri": "https://localhost:8080/"
        },
        "id": "8SQW-G5ULYD9",
        "outputId": "9f046c61-09ce-4a4f-f64f-fd4f5dc37a50"
      },
      "outputs": [
        {
          "output_type": "execute_result",
          "data": {
            "text/plain": [
              "array([ 0,  1,  2,  3,  4,  5,  6,  7,  8,  9, 10, 11, 12, 13, 14, 15, 16,\n",
              "       17, 18, 19, 20, 21, 22, 23, 24])"
            ]
          },
          "metadata": {},
          "execution_count": 62
        }
      ],
      "source": [
        "vect_array"
      ]
    },
    {
      "cell_type": "code",
      "execution_count": 60,
      "metadata": {
        "collapsed": true,
        "id": "3WbaEJxJLYD9"
      },
      "outputs": [],
      "source": [
        "vectToMatrix = vect_array.reshape(5,5)"
      ]
    },
    {
      "cell_type": "code",
      "execution_count": 61,
      "metadata": {
        "scrolled": true,
        "colab": {
          "base_uri": "https://localhost:8080/"
        },
        "id": "Y94npSIMLYD-",
        "outputId": "aaf64da6-80f5-4935-81ed-6d3b4cc66aa8"
      },
      "outputs": [
        {
          "output_type": "execute_result",
          "data": {
            "text/plain": [
              "array([[ 0,  1,  2,  3,  4],\n",
              "       [ 5,  6,  7,  8,  9],\n",
              "       [10, 11, 12, 13, 14],\n",
              "       [15, 16, 17, 18, 19],\n",
              "       [20, 21, 22, 23, 24]])"
            ]
          },
          "metadata": {},
          "execution_count": 61
        }
      ],
      "source": [
        "vectToMatrix"
      ]
    },
    {
      "cell_type": "code",
      "execution_count": 64,
      "metadata": {
        "collapsed": true,
        "id": "Ok_EF1SOLYD_"
      },
      "outputs": [],
      "source": [
        "vect_array.shape = (5,5)"
      ]
    },
    {
      "cell_type": "code",
      "execution_count": 65,
      "metadata": {
        "scrolled": true,
        "colab": {
          "base_uri": "https://localhost:8080/"
        },
        "id": "CsTvatgwLYD_",
        "outputId": "7f7cfea2-11e7-483c-dcad-2aeedff64241"
      },
      "outputs": [
        {
          "output_type": "execute_result",
          "data": {
            "text/plain": [
              "array([[ 0,  1,  2,  3,  4],\n",
              "       [ 5,  6,  7,  8,  9],\n",
              "       [10, 11, 12, 13, 14],\n",
              "       [15, 16, 17, 18, 19],\n",
              "       [20, 21, 22, 23, 24]])"
            ]
          },
          "metadata": {},
          "execution_count": 65
        }
      ],
      "source": [
        "vect_array"
      ]
    },
    {
      "cell_type": "markdown",
      "metadata": {
        "id": "FUwiIbxyLYEA"
      },
      "source": [
        "**12. Please generate the following matrix.**"
      ]
    },
    {
      "cell_type": "code",
      "execution_count": 72,
      "metadata": {
        "collapsed": true,
        "id": "HtNyHUHsLYEi"
      },
      "outputs": [],
      "source": [
        "pointVector = np.arange(start = 0.1, stop = 2.6, step = 0.1)\n",
        "pointVectorToMatrix = pointVector.reshape(5,5)"
      ]
    },
    {
      "cell_type": "code",
      "execution_count": 73,
      "metadata": {
        "scrolled": false,
        "colab": {
          "base_uri": "https://localhost:8080/"
        },
        "id": "o4oEv1-CLYEj",
        "outputId": "67c4cb84-c438-415e-99e3-85d5600bf468"
      },
      "outputs": [
        {
          "output_type": "execute_result",
          "data": {
            "text/plain": [
              "array([[0.1, 0.2, 0.3, 0.4, 0.5],\n",
              "       [0.6, 0.7, 0.8, 0.9, 1. ],\n",
              "       [1.1, 1.2, 1.3, 1.4, 1.5],\n",
              "       [1.6, 1.7, 1.8, 1.9, 2. ],\n",
              "       [2.1, 2.2, 2.3, 2.4, 2.5]])"
            ]
          },
          "metadata": {},
          "execution_count": 73
        }
      ],
      "source": [
        "pointVectorToMatrix"
      ]
    },
    {
      "cell_type": "markdown",
      "metadata": {
        "id": "P7Klgdg2LYEj"
      },
      "source": [
        "**13. Write a code to generate the output below, use \"`linspace()`\" and \"`print()`\"**"
      ]
    },
    {
      "cell_type": "code",
      "execution_count": 136,
      "metadata": {
        "collapsed": true,
        "colab": {
          "base_uri": "https://localhost:8080/"
        },
        "id": "P4jMhy2HLYEk",
        "outputId": "331db16f-00cc-4a67-f891-a5a7baf98136"
      },
      "outputs": [
        {
          "output_type": "execute_result",
          "data": {
            "text/plain": [
              "array([[ 0,  1,  2,  3,  4],\n",
              "       [ 5,  6,  7,  8,  9],\n",
              "       [10, 11, 12, 13, 14],\n",
              "       [15, 16, 17, 18, 19],\n",
              "       [20, 21, 22, 23, 24]])"
            ]
          },
          "metadata": {},
          "execution_count": 136
        }
      ],
      "source": [
        "linSpaceArray = np.linspace(start = 0, stop = 24, num = 25, dtype = int)\n",
        "linSpaceArray.reshape((5,5))"
      ]
    },
    {
      "cell_type": "code",
      "execution_count": 138,
      "metadata": {
        "colab": {
          "base_uri": "https://localhost:8080/"
        },
        "id": "ncbSbvWYLYEk",
        "outputId": "9f0f3336-4cb6-49a7-ba3d-a09b1dec157a"
      },
      "outputs": [
        {
          "output_type": "stream",
          "name": "stdout",
          "text": [
            "[[ 0  1  2  3  4]\n",
            " [ 5  6  7  8  9]\n",
            " [10 11 12 13 14]\n",
            " [15 16 17 18 19]\n",
            " [20 21 22 23 24]]\n"
          ]
        }
      ],
      "source": [
        "print(linSpaceArray.reshape((5,5)))"
      ]
    },
    {
      "cell_type": "markdown",
      "metadata": {
        "id": "dfDcf83iLYEl"
      },
      "source": [
        "**14. What is the main difference between `linspace()` and `arange()`?**"
      ]
    },
    {
      "cell_type": "markdown",
      "source": [
        "The main difference between linspace() and arange() is that linspace() generates a fixed number of evenly spaced values between a range, while arange() generates values with a specified step size"
      ],
      "metadata": {
        "id": "qPAXsZTuYsR1"
      }
    },
    {
      "cell_type": "markdown",
      "metadata": {
        "id": "GOJnq9a7LYEl"
      },
      "source": [
        "**15. How to generate a single random integer number using NumPy built-in function?**"
      ]
    },
    {
      "cell_type": "code",
      "execution_count": 140,
      "metadata": {
        "collapsed": true,
        "colab": {
          "base_uri": "https://localhost:8080/"
        },
        "id": "xSBzh_fpLYEm",
        "outputId": "5fb1420d-be3f-447a-8408-adda34ba8a9f"
      },
      "outputs": [
        {
          "output_type": "stream",
          "name": "stdout",
          "text": [
            "11\n"
          ]
        }
      ],
      "source": [
        "random_integer = np.random.randint(10, 20)\n",
        "print(random_integer)"
      ]
    },
    {
      "cell_type": "markdown",
      "metadata": {
        "id": "AWui1qhzLYEm"
      },
      "source": [
        "**16. Write a code to generate a 7x5 matrix of 35 random numbers? use rand here** <br>\n",
        "*Notice, there are no ( ) in the output matrix!*"
      ]
    },
    {
      "cell_type": "code",
      "execution_count": null,
      "metadata": {
        "collapsed": true,
        "id": "ZddS1jQLLYEn"
      },
      "outputs": [],
      "source": [
        "random_number_matrix = np.random.rand(7, 5)\n",
        "random_number_matrix.reshape((7,5))"
      ]
    },
    {
      "cell_type": "code",
      "execution_count": 110,
      "metadata": {
        "colab": {
          "base_uri": "https://localhost:8080/"
        },
        "id": "vpdW9o6uLYEn",
        "outputId": "541a52ff-800e-4692-fc66-1671f8c87824"
      },
      "outputs": [
        {
          "output_type": "stream",
          "name": "stdout",
          "text": [
            "[[0.1166549  0.18521902 0.71113806 0.77473117 0.54326835]\n",
            " [0.77945312 0.34066295 0.41717332 0.62309145 0.09964159]\n",
            " [0.24931496 0.28958121 0.96037959 0.56024431 0.5153702 ]\n",
            " [0.95447404 0.88435732 0.34995401 0.02032165 0.74858255]\n",
            " [0.74897452 0.61875555 0.37784119 0.26873483 0.33253469]\n",
            " [0.77504256 0.70987805 0.21111122 0.45977182 0.46837329]\n",
            " [0.68123144 0.16784578 0.05760575 0.50816258 0.90557309]]\n"
          ]
        }
      ],
      "source": [
        "print(random_number_matrix)"
      ]
    },
    {
      "cell_type": "markdown",
      "metadata": {
        "id": "yhiGILwQLYEo"
      },
      "source": [
        "**17. Generate the following matrix using NumPy's built-in method for identity matrix.**"
      ]
    },
    {
      "cell_type": "code",
      "execution_count": 111,
      "metadata": {
        "collapsed": true,
        "id": "baJ3t85ILYEo"
      },
      "outputs": [],
      "source": [
        "identity_matrix = 5 * np.eye(5)"
      ]
    },
    {
      "cell_type": "code",
      "execution_count": 112,
      "metadata": {
        "colab": {
          "base_uri": "https://localhost:8080/"
        },
        "id": "AFYu3TucLYEp",
        "outputId": "8a59d14c-3ff4-4df8-bae5-919951d08e95"
      },
      "outputs": [
        {
          "output_type": "execute_result",
          "data": {
            "text/plain": [
              "array([[5., 0., 0., 0., 0.],\n",
              "       [0., 5., 0., 0., 0.],\n",
              "       [0., 0., 5., 0., 0.],\n",
              "       [0., 0., 0., 5., 0.],\n",
              "       [0., 0., 0., 0., 5.]])"
            ]
          },
          "metadata": {},
          "execution_count": 112
        }
      ],
      "source": [
        "identity_matrix"
      ]
    }
  ],
  "metadata": {
    "kernelspec": {
      "display_name": "Python 3 (ipykernel)",
      "language": "python",
      "name": "python3"
    },
    "language_info": {
      "codemirror_mode": {
        "name": "ipython",
        "version": 3
      },
      "file_extension": ".py",
      "mimetype": "text/x-python",
      "name": "python",
      "nbconvert_exporter": "python",
      "pygments_lexer": "ipython3",
      "version": "3.11.5"
    },
    "colab": {
      "provenance": []
    }
  },
  "nbformat": 4,
  "nbformat_minor": 0
}